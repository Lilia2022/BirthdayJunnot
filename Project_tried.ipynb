{
  "nbformat": 4,
  "nbformat_minor": 0,
  "metadata": {
    "colab": {
      "provenance": [],
      "authorship_tag": "ABX9TyP6oBaKz2iuJhZIBtJyxvVg",
      "include_colab_link": true
    },
    "kernelspec": {
      "name": "python3",
      "display_name": "Python 3"
    },
    "language_info": {
      "name": "python"
    }
  },
  "cells": [
    {
      "cell_type": "markdown",
      "metadata": {
        "id": "view-in-github",
        "colab_type": "text"
      },
      "source": [
        "<a href=\"https://colab.research.google.com/github/Lilia2022/BirthdayJunnot/blob/main/Project_tried.ipynb\" target=\"_parent\"><img src=\"https://colab.research.google.com/assets/colab-badge.svg\" alt=\"Open In Colab\"/></a>"
      ]
    },
    {
      "cell_type": "code",
      "source": [
        "import pandas as pd\n",
        "import numpy as np\n",
        "import matplotlib.pyplot as plt\n",
        "import seaborn as sns\n",
        "from sklearn.model_selection import train_test_split\n",
        "from sklearn.preprocessing import LabelEncoder\n",
        "from tensorflow.keras.preprocessing.image import ImageDataGenerator\n",
        "from tensorflow.keras.models import Sequential\n",
        "from tensorflow.keras.layers import Conv2D, MaxPooling2D, Flatten, Dense\n"
      ],
      "metadata": {
        "id": "rUzoAmmU6IS_"
      },
      "execution_count": 37,
      "outputs": []
    },
    {
      "cell_type": "code",
      "source": [
        "\n",
        "\n",
        "# Specify the path to your CSV file\n",
        "dataset_path = 'JustRAIGS_Train_labels.csv'\n",
        "\n",
        "# Read the dataset into a Pandas DataFrame\n",
        "df = pd.read_csv(dataset_path)\n",
        "\n",
        "# Display basic information about the dataset\n",
        "print(df.info())\n",
        "\n",
        "# Display the first few rows of the dataset\n",
        "print(df.head())\n"
      ],
      "metadata": {
        "colab": {
          "base_uri": "https://localhost:8080/"
        },
        "id": "6Ec-zzgW-_v-",
        "outputId": "f1dbcdc0-5cca-4e44-af49-c420e6446231"
      },
      "execution_count": 7,
      "outputs": [
        {
          "output_type": "stream",
          "name": "stdout",
          "text": [
            "<class 'pandas.core.frame.DataFrame'>\n",
            "RangeIndex: 101423 entries, 0 to 101422\n",
            "Data columns (total 1 columns):\n",
            " #   Column                                                                                                                                                                                                                                                                                                        Non-Null Count   Dtype \n",
            "---  ------                                                                                                                                                                                                                                                                                                        --------------   ----- \n",
            " 0   Eye ID;Final Label;Fellow Eye ID;Age;Label G1;Label G2;Label G3;G1 ANRS;G1 ANRI;G1 RNFLDS;G1 RNFLDI;G1 BCLVS;G1 BCLVI;G1 NVT;G1 DH;G1 LD;G1 LC;G2 ANRS;G2 ANRI;G2 RNFLDS;G2 RNFLDI;G2 BCLVS;G2 BCLVI;G2 NVT;G2 DH;G2 LD;G2 LC;G3 ANRS;G3 ANRI;G3 RNFLDS;G3 RNFLDI;G3 BCLVS;G3 BCLVI;G3 NVT;G3 DH;G3 LD;G3 LC  101423 non-null  object\n",
            "dtypes: object(1)\n",
            "memory usage: 792.5+ KB\n",
            "None\n",
            "  Eye ID;Final Label;Fellow Eye ID;Age;Label G1;Label G2;Label G3;G1 ANRS;G1 ANRI;G1 RNFLDS;G1 RNFLDI;G1 BCLVS;G1 BCLVI;G1 NVT;G1 DH;G1 LD;G1 LC;G2 ANRS;G2 ANRI;G2 RNFLDS;G2 RNFLDI;G2 BCLVS;G2 BCLVI;G2 NVT;G2 DH;G2 LD;G2 LC;G3 ANRS;G3 ANRI;G3 RNFLDS;G3 RNFLDI;G3 BCLVS;G3 BCLVI;G3 NVT;G3 DH;G3 LD;G3 LC\n",
            "0  TRAIN000000;NRG;TRAIN081848;48;NRG;NRG;;0;0;0;...                                                                                                                                                                                                                                                          \n",
            "1  TRAIN000001;NRG;TRAIN018312;29;NRG;NRG;;0;0;0;...                                                                                                                                                                                                                                                          \n",
            "2  TRAIN000002;NRG;TRAIN083822;61;NRG;NRG;;0;0;0;...                                                                                                                                                                                                                                                          \n",
            "3  TRAIN000003;NRG;TRAIN055721;70;NRG;NRG;;0;0;0;...                                                                                                                                                                                                                                                          \n",
            "4  TRAIN000004;NRG;TRAIN099283;48;NRG;NRG;;0;0;0;...                                                                                                                                                                                                                                                          \n"
          ]
        }
      ]
    },
    {
      "cell_type": "code",
      "source": [
        "# Assuming df is your DataFrame obtained from reading the dataset\n",
        "# If you haven't already loaded the dataset, refer to the previous example\n",
        "\n",
        "# Split the single column into multiple columns based on the semicolon delimiter\n",
        "df_split = df['Eye ID;Final Label;Fellow Eye ID;Age;Label G1;Label G2;Label G3;G1 ANRS;G1 ANRI;G1 RNFLDS;G1 RNFLDI;G1 BCLVS;G1 BCLVI;G1 NVT;G1 DH;G1 LD;G1 LC;G2 ANRS;G2 ANRI;G2 RNFLDS;G2 RNFLDI;G2 BCLVS;G2 BCLVI;G2 NVT;G2 DH;G2 LD;G2 LC;G3 ANRS;G3 ANRI;G3 RNFLDS;G3 RNFLDI;G3 BCLVS;G3 BCLVI;G3 NVT;G3 DH;G3 LD;G3 LC'].str.split(';', expand=True)\n",
        "\n",
        "# Display the first few rows of the new DataFrame\n",
        "print(df_split.head())\n",
        "\n",
        "# Display basic information about the new DataFrame\n",
        "print(df_split.info())\n"
      ],
      "metadata": {
        "colab": {
          "base_uri": "https://localhost:8080/"
        },
        "id": "LjazyfAh_pkW",
        "outputId": "b43661c0-c542-4213-8a7a-84f2cc91202b"
      },
      "execution_count": 10,
      "outputs": [
        {
          "output_type": "stream",
          "name": "stdout",
          "text": [
            "            0    1            2   3    4    5  6  7  8  9   ... 27 28 29 30  \\\n",
            "0  TRAIN000000  NRG  TRAIN081848  48  NRG  NRG     0  0  0  ...               \n",
            "1  TRAIN000001  NRG  TRAIN018312  29  NRG  NRG     0  0  0  ...               \n",
            "2  TRAIN000002  NRG  TRAIN083822  61  NRG  NRG     0  0  0  ...               \n",
            "3  TRAIN000003  NRG  TRAIN055721  70  NRG  NRG     0  0  0  ...               \n",
            "4  TRAIN000004  NRG  TRAIN099283  48  NRG  NRG     0  0  0  ...               \n",
            "\n",
            "  31 32 33 34 35 36  \n",
            "0                    \n",
            "1                    \n",
            "2                    \n",
            "3                    \n",
            "4                    \n",
            "\n",
            "[5 rows x 37 columns]\n",
            "<class 'pandas.core.frame.DataFrame'>\n",
            "RangeIndex: 101423 entries, 0 to 101422\n",
            "Data columns (total 37 columns):\n",
            " #   Column  Non-Null Count   Dtype \n",
            "---  ------  --------------   ----- \n",
            " 0   0       101423 non-null  object\n",
            " 1   1       101423 non-null  object\n",
            " 2   2       101423 non-null  object\n",
            " 3   3       101423 non-null  object\n",
            " 4   4       101423 non-null  object\n",
            " 5   5       101423 non-null  object\n",
            " 6   6       101423 non-null  object\n",
            " 7   7       101423 non-null  object\n",
            " 8   8       101423 non-null  object\n",
            " 9   9       101423 non-null  object\n",
            " 10  10      101423 non-null  object\n",
            " 11  11      101423 non-null  object\n",
            " 12  12      101423 non-null  object\n",
            " 13  13      101423 non-null  object\n",
            " 14  14      101423 non-null  object\n",
            " 15  15      101423 non-null  object\n",
            " 16  16      101423 non-null  object\n",
            " 17  17      101423 non-null  object\n",
            " 18  18      101423 non-null  object\n",
            " 19  19      101423 non-null  object\n",
            " 20  20      101423 non-null  object\n",
            " 21  21      101423 non-null  object\n",
            " 22  22      101423 non-null  object\n",
            " 23  23      101423 non-null  object\n",
            " 24  24      101423 non-null  object\n",
            " 25  25      101423 non-null  object\n",
            " 26  26      101423 non-null  object\n",
            " 27  27      101423 non-null  object\n",
            " 28  28      101423 non-null  object\n",
            " 29  29      101423 non-null  object\n",
            " 30  30      101423 non-null  object\n",
            " 31  31      101423 non-null  object\n",
            " 32  32      101423 non-null  object\n",
            " 33  33      101423 non-null  object\n",
            " 34  34      101423 non-null  object\n",
            " 35  35      101423 non-null  object\n",
            " 36  36      101423 non-null  object\n",
            "dtypes: object(37)\n",
            "memory usage: 28.6+ MB\n",
            "None\n"
          ]
        }
      ]
    },
    {
      "cell_type": "code",
      "source": [
        "# columns '3', '6', '7', '8', '9', and others are columns with numerical data\n",
        "columns_to_convert = [3, 6, 7, 8, 9]  # Add other column names as needed7\n",
        "# Loop through the specified columns and convert to numeric\n",
        "for col in columns_to_convert:\n",
        "    df_split[col] = pd.to_numeric(df_split[col], errors='coerce')  # Using errors='coerce' to handle non-numeric values\n"
      ],
      "metadata": {
        "id": "yU0BCJsECEkK"
      },
      "execution_count": 12,
      "outputs": []
    },
    {
      "cell_type": "code",
      "source": [
        "# Check for missing values\n",
        "print(df_split.isnull().sum())\n"
      ],
      "metadata": {
        "colab": {
          "base_uri": "https://localhost:8080/"
        },
        "id": "MIGkn3MoCvWj",
        "outputId": "e9aeeee4-e89d-4b35-a282-1816c38ca461"
      },
      "execution_count": 13,
      "outputs": [
        {
          "output_type": "stream",
          "name": "stdout",
          "text": [
            "0          0\n",
            "1          0\n",
            "2          0\n",
            "3         14\n",
            "4          0\n",
            "5          0\n",
            "6     101423\n",
            "7        274\n",
            "8        274\n",
            "9        274\n",
            "10         0\n",
            "11         0\n",
            "12         0\n",
            "13         0\n",
            "14         0\n",
            "15         0\n",
            "16         0\n",
            "17         0\n",
            "18         0\n",
            "19         0\n",
            "20         0\n",
            "21         0\n",
            "22         0\n",
            "23         0\n",
            "24         0\n",
            "25         0\n",
            "26         0\n",
            "27         0\n",
            "28         0\n",
            "29         0\n",
            "30         0\n",
            "31         0\n",
            "32         0\n",
            "33         0\n",
            "34         0\n",
            "35         0\n",
            "36         0\n",
            "dtype: int64\n"
          ]
        }
      ]
    },
    {
      "cell_type": "code",
      "source": [
        "# Impute missing values with the mean for numeric columns\n",
        "df_split.fillna(df_split.mean(), inplace=True)\n"
      ],
      "metadata": {
        "colab": {
          "base_uri": "https://localhost:8080/"
        },
        "id": "KfKty2avDSvh",
        "outputId": "768a8959-1e5a-49c0-c38c-240961b534a9"
      },
      "execution_count": 14,
      "outputs": [
        {
          "output_type": "stream",
          "name": "stderr",
          "text": [
            "<ipython-input-14-5be7379f3805>:2: FutureWarning: The default value of numeric_only in DataFrame.mean is deprecated. In a future version, it will default to False. In addition, specifying 'numeric_only=None' is deprecated. Select only valid columns or specify the value of numeric_only to silence this warning.\n",
            "  df_split.fillna(df_split.mean(), inplace=True)\n"
          ]
        }
      ]
    },
    {
      "cell_type": "code",
      "source": [
        "# Display the column names of df_split\n",
        "print(df_split.columns)\n"
      ],
      "metadata": {
        "colab": {
          "base_uri": "https://localhost:8080/"
        },
        "id": "O_SSg5SzDfL3",
        "outputId": "46d7a017-b411-4645-f4dd-5b9f4c05bd4c"
      },
      "execution_count": 16,
      "outputs": [
        {
          "output_type": "stream",
          "name": "stdout",
          "text": [
            "RangeIndex(start=0, stop=37, step=1)\n"
          ]
        }
      ]
    },
    {
      "cell_type": "code",
      "source": [
        "# Explore the distribution of 'Age' using column index 3\n",
        "sns.histplot(df_split.iloc[:, 3].dropna(), bins=20, kde=True)\n",
        "plt.title('Distribution of Age')\n",
        "plt.show()\n"
      ],
      "metadata": {
        "colab": {
          "base_uri": "https://localhost:8080/",
          "height": 472
        },
        "id": "i4Lo15cUD4RO",
        "outputId": "31c2ee01-24f6-40e0-97ab-3ad9692cedc9"
      },
      "execution_count": 21,
      "outputs": [
        {
          "output_type": "display_data",
          "data": {
            "text/plain": [
              "<Figure size 640x480 with 1 Axes>"
            ],
            "image/png": "[encoded data removed]"
          },
          "metadata": {}
        }
      ]
    },
    {
      "cell_type": "code",
      "source": [],
      "metadata": {
        "id": "dKGCMurifvkS"
      },
      "execution_count": null,
      "outputs": []
    }
  ]
}